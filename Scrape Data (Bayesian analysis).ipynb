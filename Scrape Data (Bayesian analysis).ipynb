{
 "cells": [
  {
   "cell_type": "code",
   "execution_count": null,
   "metadata": {},
   "outputs": [],
   "source": [
    "import random\n",
    "import time\n",
    "\n",
    "from collections import defaultdict\n",
    "from multiprocessing.pool import Pool\n",
    "\n",
    "import requests\n",
    "import numpy as np\n",
    "import pandas as pd\n",
    "\n",
    "from bs4 import BeautifulSoup"
   ]
  },
  {
   "cell_type": "code",
   "execution_count": null,
   "metadata": {},
   "outputs": [],
   "source": [
    "pd.set_option('display.max_columns', 50)"
   ]
  },
  {
   "cell_type": "code",
   "execution_count": null,
   "metadata": {},
   "outputs": [],
   "source": [
    "table_pages = ['https://en.wikipedia.org/wiki/List_of_battles_before_301',\n",
    "               'https://en.wikipedia.org/wiki/List_of_battles_301%E2%80%931300',\n",
    "               'https://en.wikipedia.org/wiki/List_of_battles_1301%E2%80%931600',\n",
    "               'https://en.wikipedia.org/wiki/List_of_battles_since_2001']\n",
    "\n",
    "list_pages = ['https://en.wikipedia.org/wiki/List_of_battles_1601%E2%80%931800',\n",
    "               'https://en.wikipedia.org/wiki/List_of_battles_1801%E2%80%931900',\n",
    "               'https://en.wikipedia.org/wiki/List_of_battles_1901%E2%80%932000',]"
   ]
  },
  {
   "cell_type": "code",
   "execution_count": null,
   "metadata": {},
   "outputs": [],
   "source": [
    "def retrieve_battles(url):\n",
    "    link_list = []\n",
    "    title_list = []\n",
    "    \n",
    "    with requests.Session() as session:\n",
    "        response = session.get(url)\n",
    "        \n",
    "    soup = BeautifulSoup(response.content)\n",
    "    bullets = soup.find_all('li')\n",
    "    \n",
    "    for bullet in bullets:\n",
    "        if 'title' in str(bullet):\n",
    "            if 'footer' not in str(bullet):\n",
    "                link = bullet.a['href']\n",
    "                link_list.append(link)\n",
    "                \n",
    "                title = bullet.a.get('title', None)\n",
    "                title_list.append(title)\n",
    "\n",
    "    return link_list, title_list\n",
    "\n",
    "# Them's\n",
    "fightin_words = ['Fall', 'Battle', 'Siege', 'Capture', 'Operation', 'Action', 'Recapture']\n",
    "\n",
    "def retrieve_early_battles(url):\n",
    "    link_list = []\n",
    "    title_list = []\n",
    "    \n",
    "    with requests.Session() as session:\n",
    "        responses = requests.get(url)\n",
    "        soup = BeautifulSoup(responses.content)\n",
    "        tables = soup.find_all('table', {'class': 'wikitable'})\n",
    "        \n",
    "        for table in tables:\n",
    "            cells = table.find_all('td')\n",
    "            for cell in cells:\n",
    "                if cell.a is not None:\n",
    "                    if any(x in str(cell.a['href']) for x in fightin_words):\n",
    "                        title_list.append(cell.a['title'])\n",
    "                        link_list.append(cell.a['href'])\n",
    "                        \n",
    "    return link_list, title_list"
   ]
  },
  {
   "cell_type": "code",
   "execution_count": null,
   "metadata": {},
   "outputs": [],
   "source": [
    "link_list = []\n",
    "title_list = []\n",
    "\n",
    "for url in list_pages:\n",
    "    links, titles = retrieve_battles(url)\n",
    "    link_list += links\n",
    "    title_list += titles\n",
    "\n",
    "late_battles = pd.DataFrame.from_dict({'url': link_list, 'title': title_list})\n",
    "late_battles.drop_duplicates(inplace=True)\n",
    "late_battles.dropna(subset=['title'], inplace=True)\n",
    "\n",
    "print(\"# Late battles:\", len(late_battles))\n",
    "late_battles.sample(n=5)"
   ]
  },
  {
   "cell_type": "code",
   "execution_count": null,
   "metadata": {},
   "outputs": [],
   "source": [
    "link_list = []\n",
    "title_list = []\n",
    "\n",
    "for url in table_pages:\n",
    "    links, titles = retrieve_early_battles(url)\n",
    "    link_list += links\n",
    "    title_list += titles\n",
    "\n",
    "early_battles = pd.DataFrame.from_dict({'url': link_list, 'title': title_list})\n",
    "early_battles.drop_duplicates(inplace=True)\n",
    "early_battles.dropna(subset=['title'], inplace=True)\n",
    "\n",
    "print(\"# Early battles:\", len(early_battles))\n",
    "early_battles.sample(n=5)"
   ]
  },
  {
   "cell_type": "code",
   "execution_count": null,
   "metadata": {},
   "outputs": [],
   "source": [
    "battles = pd.concat([early_battles, late_battles])\n",
    "battles.reset_index(drop=True, inplace=True)\n",
    "battles.drop_duplicates(inplace=True)\n",
    "\n",
    "print('Total # battles:', len(battles))\n",
    "battles.sample(n=5)"
   ]
  },
  {
   "cell_type": "code",
   "execution_count": null,
   "metadata": {},
   "outputs": [],
   "source": [
    "# Exclude nonexistent pages or non-english wikipedia pages\n",
    "# (There aren't that many, so better to dump them)\n",
    "battles = battles.loc[~battles.title.str.contains('does not exist')]\n",
    "battles = battles.loc[~battles.url.str.contains('https')]\n",
    "\n",
    "# Exclude wars\n",
    "battles = battles.loc[~battles.title.map(lambda s: 'War' in s.split(' '))]\n",
    "\n",
    "# Exclude support page links etc\n",
    "battles = battles.loc[~battles.url.str.contains('Wikipedia')]\n",
    "battles = battles.loc[~battles.url.str.contains('index.php')]\n",
    "battles = battles.loc[~battles.url.str.contains('Special:')]\n",
    "battles = battles.loc[~battles.url.str.contains('List_of')]\n",
    "battles = battles.loc[~battles.url.str.contains('Category:')]\n",
    "\n",
    "# We only want battles, not extended campaigns or distributed multi-event things\n",
    "conflict_terms = ('battle', 'siege', 'fall', 'sack', \n",
    "                  'operation', 'capture', 'raid', \n",
    "                  'action', 'destruction', 'massacre')\n",
    "\n",
    "battles = battles.loc[battles.title.map(lambda s: any(b in s.lower() for b in conflict_terms))]\n",
    "print('Validated # battles:', len(battles))"
   ]
  },
  {
   "cell_type": "code",
   "execution_count": null,
   "metadata": {},
   "outputs": [],
   "source": [
    "battles.to_csv('./data/bayes_battles.tsv', encoding='utf-8', sep='\\t')"
   ]
  },
  {
   "cell_type": "code",
   "execution_count": null,
   "metadata": {},
   "outputs": [],
   "source": [
    "omit_list = ['Capital punishment',\n",
    "             'Military advisor',\n",
    "             'Wounded in action',\n",
    "             'Prisoner of war',\n",
    "             'Killed in action',\n",
    "             'Surrender (military)',\n",
    "             'Surrendered',\n",
    "             'Common military ranks in English']\n",
    "\n",
    "redirect_names = ['Napoleon I', 'Alexander III of Macedon']\n",
    "\n",
    "non_english_tokens = ['pt.', 'tr.', 'ko.', 'ja.',\n",
    "                      'th.', 'da.', 'es.', 'de.',\n",
    "                      'it.', 'fr.', 'zh.']\n",
    "\n",
    "sides = {0: 'lhs', 1: 'rhs'}\n",
    "\n",
    "bad_text = ('class=\"image\"', 'class=\"thumbborder\"',\n",
    "            'cite_note', 'disambiguation needed',\n",
    "            'cnote_g')\n",
    "\n",
    "def get_full_url(url):\n",
    "    if 'https://' in url:\n",
    "        return url\n",
    "    else:\n",
    "        return f'https://en.wikipedia.org{url}'\n",
    "    \n",
    "def process_side_links(cell, ul, session):\n",
    "    anchors = cell.find_all('a')\n",
    "    for anchor in anchors:\n",
    "        anchor_string = str(anchor)\n",
    "        if 'title' in anchor_string:\n",
    "            if any(map(lambda s: s in anchor_string, bad_text)):\n",
    "                continue\n",
    "\n",
    "            title = anchor['title']\n",
    "            if title in redirect_names:\n",
    "                print(f\"Redirect for {title}\")\n",
    "\n",
    "            href = anchor['href']\n",
    "            url = get_full_url(href)\n",
    "\n",
    "            if len(href) <= 10:\n",
    "                pass\n",
    "            elif href[8] + href[9] + href[10] in non_english_tokens:\n",
    "                print(f'Non-english page found at {url}')\n",
    "            elif ul is not None:\n",
    "                print(f'Redirected for {title} at {url}')\n",
    "                url = get_full_url(ul.a['href'])\n",
    "\n",
    "            try:\n",
    "                response = session.get(url)\n",
    "            except requests.ConnectionError:\n",
    "                print(f\"Belligerent request error for {url}\")\n",
    "                return None\n",
    "\n",
    "            soup = BeautifulSoup(response.text)\n",
    "            name = soup.find('title')\n",
    "\n",
    "            # Blank? Move on.\n",
    "            if not name:\n",
    "                continue\n",
    "\n",
    "            name = name.text.replace(' - Wikipedia', '')\n",
    "\n",
    "            # Not the real princess.\n",
    "            if name in omit_list:\n",
    "                continue\n",
    "                \n",
    "            yield name\n",
    "                \n",
    "def scrape_page(row):\n",
    "    battle_page_url = get_full_url(row.url)\n",
    "    \n",
    "    with requests.Session() as session:\n",
    "        try:\n",
    "            battle_page_response = session.get(battle_page_url)\n",
    "        except requests.ConnectionError:\n",
    "            print(f'Initial request to {battle_page_url} failed')\n",
    "            return None\n",
    "            \n",
    "        battle_page_soup = BeautifulSoup(battle_page_response.text)\n",
    "        infobox = battle_page_soup.find('table', {'class': 'infobox vevent'})\n",
    "        \n",
    "        if infobox is None:\n",
    "            print(f\"No infobox found for {battle_page_url}\")\n",
    "            return None\n",
    "        \n",
    "        try:\n",
    "            details, stub = pd.read_html(str(infobox), )\n",
    "        except ValueError:\n",
    "            print(f\"Error parsing details table from HTML from {battle_page_url}\")\n",
    "            \n",
    "            return None\n",
    "        \n",
    "        battle_data = defaultdict(list)\n",
    "        html_table = infobox.find_all('tr')\n",
    "        ul = battle_page_soup.find('ul', {'class': 'redirectText'}) \n",
    "        \n",
    "        for index, table_row in enumerate(html_table[:-1]):\n",
    "            if 'Belligerents' in str(table_row):                \n",
    "                belligerents = html_table[index + 1]\n",
    "                cells = belligerents.find_all('td')\n",
    "                \n",
    "                for side, cell in enumerate(cells):\n",
    "                    for belligerent_name in process_side_links(cell, ul, session):\n",
    "                        battle_data[f\"{sides[side]}_belligerents\"].append(belligerent_name)\n",
    "                        \n",
    "                    if side == 1:\n",
    "                        break\n",
    "                \n",
    "            # Parse commanders and leaders cell contents\n",
    "            elif 'Commanders and leaders' in str(table_row):\n",
    "                leaders = html_table[index + 1]\n",
    "                cells = leaders.find_all('td')\n",
    "\n",
    "                for side, cell in enumerate(cells):\n",
    "                    for leader_name in process_side_links(cell, ul, session):\n",
    "                        battle_data[f\"{sides[side]}_leaders\"].append(leader_name)\n",
    "                        \n",
    "                    if side == 1:\n",
    "                        break\n",
    "                        \n",
    "            elif 'Strength' in str(table_row):\n",
    "                strengths = html_table[index + 1]\n",
    "                cells = strengths.find_all('td')\n",
    "                \n",
    "                for side, cell in enumerate(cells):\n",
    "                    cell = BeautifulSoup(str(cell).replace('<br/>', '\\n')).find('td')\n",
    "                    for stg in map(lambda x: x.strip(), cell.text.strip().split('\\n')):\n",
    "                        if stg:\n",
    "                            battle_data[f\"{sides[side]}_strengths\"].append(stg)\n",
    "                    \n",
    "                    if side == 1:\n",
    "                        break\n",
    "                            \n",
    "            elif 'Casualties and losses' in str(table_row):\n",
    "                casualties = html_table[index + 1]\n",
    "                cells = casualties.find_all('td')\n",
    "                \n",
    "                for side, cell in enumerate(cells):\n",
    "                    cell = BeautifulSoup(str(cell).replace('<br/>', '\\n')).find('td')\n",
    "                    for cas in map(lambda x: x.strip(), cell.text.strip().split('\\n')):\n",
    "                        if cas:\n",
    "                            battle_data[f\"{sides[side]}_casualties\"].append(cas)\n",
    "                            \n",
    "                    if side == 1:\n",
    "                        break\n",
    "\n",
    "        for _, stub_row in stub.iterrows():\n",
    "            # Right and left columns\n",
    "            rl, rr = stub_row.iloc[0], stub_row.iloc[1]\n",
    "            \n",
    "            if rl == 'Date':\n",
    "                battle_data['date'] = rr.replace('\\xa0', '')\n",
    "            elif rl == 'Location':\n",
    "                battle_data['loc'] = rr\n",
    "            elif rl == 'Result':\n",
    "                battle_data['outcome'] = rr\n",
    "\n",
    "    \n",
    "    battle_data = {k: maybe_join(v) for k, v in battle_data.items()}\n",
    "    return {row.title: battle_data}\n",
    "\n",
    "def maybe_join(v):\n",
    "    if type(v) is list:\n",
    "        return '\\t'.join(v)\n",
    "    else:\n",
    "        return v"
   ]
  },
  {
   "cell_type": "code",
   "execution_count": null,
   "metadata": {},
   "outputs": [],
   "source": [
    "results = []\n",
    "for i in range(5):\n",
    "    test_row = battles.sample(n=1).iloc[0]\n",
    "    battle_data = scrape_page(test_row)\n",
    "    results.append(battle_data)\n",
    "# battle_data"
   ]
  },
  {
   "cell_type": "code",
   "execution_count": null,
   "metadata": {},
   "outputs": [],
   "source": [
    "battles_df = pd.concat([pd.DataFrame(r).T for r in results if r is not None], axis=0)\n",
    "battles_df"
   ]
  },
  {
   "cell_type": "code",
   "execution_count": null,
   "metadata": {
    "scrolled": true
   },
   "outputs": [],
   "source": [
    "with Pool(processes=12) as pool:\n",
    "    results = pool.map(scrape_page, map(lambda r: r[1], battles.iterrows()))"
   ]
  },
  {
   "cell_type": "code",
   "execution_count": null,
   "metadata": {},
   "outputs": [],
   "source": [
    "battles_df = pd.concat([pd.DataFrame(r).T for r in results if r is not None], axis=0)\n",
    "battles_df.drop_duplicates(inplace=True)\n",
    "\n",
    "gotta_have_fields = ('outcome', \n",
    "                     'rhs_leaders', 'lhs_leaders', \n",
    "                     'rhs_belligerents', 'lhs_belligerents')\n",
    "\n",
    "battles_df.dropna(subset=gotta_have_fields, inplace=True)\n",
    "\n",
    "battles_df.sample(n=5)"
   ]
  },
  {
   "cell_type": "code",
   "execution_count": null,
   "metadata": {},
   "outputs": [],
   "source": [
    "battles_df.to_csv('./data/bayes_battle_records.tsv', sep=';')"
   ]
  },
  {
   "cell_type": "markdown",
   "metadata": {},
   "source": [
    "## Inference"
   ]
  },
  {
   "cell_type": "code",
   "execution_count": null,
   "metadata": {},
   "outputs": [],
   "source": [
    "battles_df = pd.read_csv('./data/bayes_battle_records.tsv', sep=';', index_col=0)"
   ]
  },
  {
   "cell_type": "code",
   "execution_count": null,
   "metadata": {},
   "outputs": [],
   "source": [
    "hand_labels = pd.read_csv('./data/current_run.csv', index_col=0)\n",
    "hand_labels['Battle'] = hand_labels.Battle.str.replace('_', ' ')"
   ]
  },
  {
   "cell_type": "code",
   "execution_count": null,
   "metadata": {},
   "outputs": [],
   "source": [
    "def get_winner(battle):\n",
    "    sel = hand_labels.Battle == battle\n",
    "    sel &= hand_labels.VorD == 'V'\n",
    "    vrow = hand_labels.loc[sel]\n",
    "    try:\n",
    "        vrow = vrow.iloc[0]\n",
    "        return vrow.pos\n",
    "    except IndexError:\n",
    "        return None\n",
    "\n",
    "battles_df['hand_outcome'] = battles_df.index.map(get_winner)\n",
    "battles_df.dropna(subset=('hand_outcome', ), inplace=True)"
   ]
  },
  {
   "cell_type": "code",
   "execution_count": null,
   "metadata": {},
   "outputs": [],
   "source": [
    "force_types = (\"Infantry\", \"Cavalry\", \"Artillery\", \n",
    "               \"Ships\", \"Airforce\", \"Special\")"
   ]
  },
  {
   "cell_type": "code",
   "execution_count": null,
   "metadata": {},
   "outputs": [],
   "source": [
    "for ft in force_types:\n",
    "    battles_df[f\"lhs_{ft}\"] = np.nan\n",
    "    battles_df[f\"rhs_{ft}\"] = np.nan\n",
    "    \n",
    "    def get_forces(battle, pos):\n",
    "        sel = hand_labels.Battle == battle\n",
    "        sel &= hand_labels.pos == pos\n",
    "        prow = hand_labels.loc[sel]\n",
    "        \n",
    "        try:\n",
    "            prow = prow.iloc[0]\n",
    "            return prow[ft]\n",
    "        except IndexError:\n",
    "            return None\n",
    "    \n",
    "    battles_df[f\"lhs_{ft}\"] = battles_df.index.map(lambda b: get_forces(b, 'L'))\n",
    "    battles_df[f\"rhs_{ft}\"] = battles_df.index.map(lambda b: get_forces(b, 'R'))"
   ]
  },
  {
   "cell_type": "code",
   "execution_count": null,
   "metadata": {},
   "outputs": [],
   "source": [
    "battles_df.sample(n=5)"
   ]
  },
  {
   "cell_type": "code",
   "execution_count": null,
   "metadata": {},
   "outputs": [],
   "source": [
    "excluded_leaders = set(['Capital punishment', 'Lieutenant general', '6th Panzer Army', \n",
    "                        'Navy', 'Tsar', 'Strategos', 'Knight', 'Kurdistan Democratic Party', \n",
    "                        'List of Khazar rulers', 'Commodore (rank)', 'II Corps (Pakistan)',\n",
    "                        'Air marshal', 'Air chief marshal', 'Captain (armed forces)', \n",
    "                        'Campuzano Polanco family', 'XX Corps (United Kingdom)', \n",
    "                        'American Civil War', 'Israeli Navy', 'Archduke', 'Arab Liberation Army',\n",
    "                        \"Eighty Years' War\", 'Central Command (India)', 'South Wales Borderers', \n",
    "                        'Big Red Meat', 'XI Corps (India)', 'Prime Minister of Israel', 'Army Group B', \n",
    "                        'Bangladesh Police', 'Brigadier general', 'Colonel', 'Republic of Venice', \n",
    "                        'Suicide', 'Wikimedia Error', 'Sweden', 'Wikipedia:Citation needed',\n",
    "                        'Ethiopian Empire', 'Major general', 'Grand vizier', 'Germanic kingship', \n",
    "                        'Lieutenant colonel', 'Norway', 'Sir', 'Brigadier'])\n",
    "\n",
    "leader_counts = defaultdict(lambda: 0)\n",
    "def count_leaders(leaders):\n",
    "    for leader in leaders.split('\\t'):\n",
    "        if leader not in excluded_leaders:\n",
    "            leader_counts[leader] += 1\n",
    "        \n",
    "    return None\n",
    "\n",
    "battles_df.lhs_leaders.map(count_leaders)\n",
    "battles_df.rhs_leaders.map(count_leaders);"
   ]
  },
  {
   "cell_type": "code",
   "execution_count": null,
   "metadata": {},
   "outputs": [],
   "source": [
    "leaders_df = pd.DataFrame.from_dict(leader_counts, orient='index', columns=['battle_count'])\n",
    "leaders_df = leaders_df.loc[leaders_df.battle_count >= 2]"
   ]
  },
  {
   "cell_type": "code",
   "execution_count": null,
   "metadata": {},
   "outputs": [],
   "source": [
    "def filter_leaders(leader_string):\n",
    "    leaders = leader_string.split('\\t')\n",
    "    \n",
    "    new_string = '\\t'.join(l for l in leaders if l in leaders_df.index)\n",
    "    \n",
    "    if new_string == '':\n",
    "        return None\n",
    "    \n",
    "    else:\n",
    "        return new_string"
   ]
  },
  {
   "cell_type": "code",
   "execution_count": null,
   "metadata": {},
   "outputs": [],
   "source": [
    "battles_df['lhs_filtered'] = battles_df.lhs_leaders.map(filter_leaders)\n",
    "battles_df['rhs_filtered'] = battles_df.rhs_leaders.map(filter_leaders)\n",
    "battles_df.dropna(subset=('lhs_filtered', 'rhs_filtered'), inplace=True)"
   ]
  },
  {
   "cell_type": "code",
   "execution_count": null,
   "metadata": {},
   "outputs": [],
   "source": []
  },
  {
   "cell_type": "code",
   "execution_count": null,
   "metadata": {},
   "outputs": [],
   "source": [
    "battles_df['label'] = battles_df.hand_outcome.map({'R': 0, 'L': 1})"
   ]
  },
  {
   "cell_type": "code",
   "execution_count": null,
   "metadata": {
    "scrolled": true
   },
   "outputs": [],
   "source": [
    "battles_df.sample(n=3)"
   ]
  },
  {
   "cell_type": "code",
   "execution_count": null,
   "metadata": {},
   "outputs": [],
   "source": [
    "leaders_df.sort_index(inplace=True)\n",
    "leaders_df['selector'] = list(range(len(leaders_df)))\n",
    "leaders_df.sample(n=3)"
   ]
  },
  {
   "cell_type": "code",
   "execution_count": null,
   "metadata": {},
   "outputs": [],
   "source": [
    "# leaders_df.loc[leaders_df.battle_count > 6].sort_index().iloc[:50]"
   ]
  },
  {
   "cell_type": "code",
   "execution_count": null,
   "metadata": {},
   "outputs": [],
   "source": [
    "import theano.tensor as tt\n",
    "from theano import shared as tshared"
   ]
  },
  {
   "cell_type": "code",
   "execution_count": null,
   "metadata": {},
   "outputs": [],
   "source": [
    "import pymc3 as pm"
   ]
  },
  {
   "cell_type": "code",
   "execution_count": null,
   "metadata": {},
   "outputs": [],
   "source": [
    "lhs_leaders_mat = np.zeros((len(battles_df), len(leaders_df)), dtype=int)\n",
    "rhs_leaders_mat = np.zeros((len(battles_df), len(leaders_df)), dtype=int)\n",
    "\n",
    "for bi, (battle_name, row) in enumerate(battles_df.iterrows()):\n",
    "    lhs_leaders = row.lhs_filtered.split('\\t')\n",
    "    for leader in lhs_leaders:\n",
    "        li = leaders_df.loc[leader].selector\n",
    "        lhs_leaders_mat[bi, li] = 1\n",
    "        \n",
    "    rhs_leaders = row.rhs_filtered.split('\\t')\n",
    "    for leader in rhs_leaders:\n",
    "        li = leaders_df.loc[leader].selector\n",
    "        rhs_leaders_mat[bi, li] = 1\n",
    "\n",
    "lhs_leaders_shared = tshared(lhs_leaders_mat)\n",
    "rhs_leaders_shared = tshared(rhs_leaders_mat)"
   ]
  },
  {
   "cell_type": "code",
   "execution_count": null,
   "metadata": {},
   "outputs": [],
   "source": [
    "battles_df.fillna(value=0, inplace=True)"
   ]
  },
  {
   "cell_type": "code",
   "execution_count": null,
   "metadata": {},
   "outputs": [],
   "source": [
    "lhs_strength_mat = np.zeros((len(battles_df), len(force_types)))\n",
    "rhs_strength_mat = np.zeros((len(battles_df), len(force_types)))\n",
    "\n",
    "for bi, (battle_name, row) in enumerate(battles_df.iterrows()):\n",
    "    for fi, ft in enumerate(force_types):\n",
    "        s = row[f\"lhs_{ft}\"]\n",
    "        if pd.notnull(s):\n",
    "            lhs_strength_mat[bi, fi] = s\n",
    "            \n",
    "        s = row[f\"rhs_{ft}\"]\n",
    "        if pd.notnull(s):\n",
    "            rhs_strength_mat[bi, fi] = s"
   ]
  },
  {
   "cell_type": "code",
   "execution_count": null,
   "metadata": {},
   "outputs": [],
   "source": [
    "# Convert strengths to ratios \n",
    "# - if you have twice as many infantry as opponent, then you get an infantry score of +2 and your opponent -.5\n",
    "\n",
    "# max_strengths = np.stack([lhs_strength_mat, rhs_strength_mat]).max(axis=0) + 1e-4\n",
    "\n",
    "# lhs_strength_mat = lhs_strength_mat / max_strengths\n",
    "# rhs_strength_mat = rhs_strength_mat / max_strengths\n",
    "\n",
    "# Use strength diffs instead (equivalent in un-normalized case)\n",
    "# Rescale by dividing by max strength\n",
    "\n",
    "max_strengths = np.stack([lhs_strength_mat, rhs_strength_mat]).max(axis=0) + 1e-4\n",
    "strength_diffs = lhs_strength_mat - rhs_strength_mat\n",
    "strength_diffs /= max_strengths"
   ]
  },
  {
   "cell_type": "code",
   "execution_count": null,
   "metadata": {},
   "outputs": [],
   "source": [
    "with pm.Model() as model:\n",
    "    leaders_prior = pm.HalfCauchy('leaders_prior', 2.5)\n",
    "    leader_coeffs = pm.Normal('leader_coeffs', \n",
    "                              mu=0, sigma=leaders_prior, \n",
    "                              shape=(len(leaders_df), ))\n",
    "    \n",
    "    strengths_prior = pm.HalfCauchy('strengths_prior', 2.5)\n",
    "#     strength_nu = pm.Uniform(\"nu\", 1, 100)\n",
    "    \n",
    "    # Hard prior on strength coefficients - a forces advantage should always lead to a win improvement\n",
    "    strength_coeffs = pm.HalfNormal('strength_coeffs', \n",
    "#                                       nu=strength_nu, \n",
    "                                    sigma=strengths_prior,\n",
    "                                    shape=(len(force_types, )))\n",
    "        \n",
    "    scores = tt.dot(lhs_leaders_shared, leader_coeffs) / lhs_leaders_shared.sum(axis=1)\n",
    "    scores -= tt.dot(rhs_leaders_shared, leader_coeffs) / rhs_leaders_shared.sum(axis=1)\n",
    "    scores += tt.dot(strength_diffs, strength_coeffs)\n",
    "    \n",
    "    y = pm.Bernoulli('outcomes', logit_p=scores, observed=battles_df.label.values)"
   ]
  },
  {
   "cell_type": "code",
   "execution_count": null,
   "metadata": {
    "scrolled": true
   },
   "outputs": [],
   "source": [
    "with model:\n",
    "    trace = pm.sample(tune=2500, draws=2500, chains=4, cores=4)"
   ]
  },
  {
   "cell_type": "code",
   "execution_count": null,
   "metadata": {},
   "outputs": [],
   "source": [
    "trace_summary = pm.summary(trace)\n",
    "trace_summary"
   ]
  },
  {
   "cell_type": "code",
   "execution_count": null,
   "metadata": {},
   "outputs": [],
   "source": [
    "import arviz as az\n",
    "import matplotlib.pyplot as plt\n",
    "import seaborn as sns\n",
    "\n",
    "%matplotlib inline"
   ]
  },
  {
   "cell_type": "code",
   "execution_count": null,
   "metadata": {},
   "outputs": [],
   "source": [
    "def plot_posterior(trace, name, ax):\n",
    "    leader_trace = trace['leader_coeffs'][:, leaders_df.loc[name].selector]\n",
    "    az.plot_posterior(leader_trace,\n",
    "                      kind='hist', point_estimate='mean', round_to=3,\n",
    "                      ref_val=0, credible_interval=.95, rope=(-.1, .1),\n",
    "                      edgecolor='white', ax=ax)\n",
    "    \n",
    "    plt.setp(ax, title=name)\n",
    "    return ax"
   ]
  },
  {
   "cell_type": "code",
   "execution_count": null,
   "metadata": {},
   "outputs": [],
   "source": [
    "fig, axes = plt.subplots(2, 3, figsize=(24, 12), dpi=150, sharey=True, sharex=True)\n",
    "\n",
    "plot_posterior(trace, 'George B. McClellan', axes[0, 0])\n",
    "plot_posterior(trace, 'William Tecumseh Sherman', axes[0, 1])\n",
    "plot_posterior(trace, 'Ulysses S. Grant', axes[0, 2])\n",
    "plot_posterior(trace, 'Robert E. Lee', axes[1, 0])\n",
    "plot_posterior(trace, 'Stonewall Jackson', axes[1, 1])\n",
    "plot_posterior(trace, 'James Longstreet', axes[1, 2]);"
   ]
  },
  {
   "cell_type": "code",
   "execution_count": null,
   "metadata": {},
   "outputs": [],
   "source": [
    "fig, axes = plt.subplots(1, 3, figsize=(24, 6), dpi=150, sharex=True, sharey=True)\n",
    "\n",
    "plot_posterior(trace, 'Napoleon', axes[0])\n",
    "plot_posterior(trace, 'Arthur Wellesley, 1st Duke of Wellington', axes[1])\n",
    "plot_posterior(trace, 'Gebhard Leberecht von Blücher', axes[2]);"
   ]
  },
  {
   "cell_type": "code",
   "execution_count": null,
   "metadata": {},
   "outputs": [],
   "source": [
    "def plot_diff(trace, name0, name1, ax):\n",
    "    leader_trace_0 = trace['leader_coeffs'][:, leaders_df.loc[name0].selector]\n",
    "    leader_trace_1 = trace['leader_coeffs'][:, leaders_df.loc[name1].selector]\n",
    "    \n",
    "    leader_trace = leader_trace_0 - leader_trace_1\n",
    "    \n",
    "    az.plot_posterior(leader_trace,\n",
    "                      kind='hist', point_estimate='mean', round_to=3,\n",
    "                      ref_val=0, credible_interval=.95, rope=(-.1, .1),\n",
    "                      edgecolor='white', ax=ax)\n",
    "    \n",
    "    plt.setp(ax, title=f\"{name0} VS {name1}\")\n",
    "    return ax"
   ]
  },
  {
   "cell_type": "code",
   "execution_count": null,
   "metadata": {},
   "outputs": [],
   "source": [
    "fig, axes = plt.subplots(1, 1, figsize=(4, 3), dpi=150)\n",
    "plot_posterior(trace, 'George Washington', axes);"
   ]
  },
  {
   "cell_type": "code",
   "execution_count": null,
   "metadata": {
    "scrolled": false
   },
   "outputs": [],
   "source": [
    "fig, axes = plt.subplots(1, 1, figsize=(4, 3), dpi=150)\n",
    "plot_diff(trace, 'Ulysses S. Grant', 'Robert E. Lee', axes);"
   ]
  },
  {
   "cell_type": "code",
   "execution_count": null,
   "metadata": {},
   "outputs": [],
   "source": [
    "leaders_df.sample(n=5)"
   ]
  },
  {
   "cell_type": "code",
   "execution_count": null,
   "metadata": {},
   "outputs": [],
   "source": [
    "fig, axes = plt.subplots(1, 1, figsize=(4, 3), dpi=150)\n",
    "plot_posterior(trace, 'Winfield Scott', axes);"
   ]
  },
  {
   "cell_type": "code",
   "execution_count": null,
   "metadata": {},
   "outputs": [],
   "source": [
    "def plot_coeff_posterior(trace, name, ax):\n",
    "    idx = force_types.index(name)\n",
    "    force_trace = trace[\"strength_coeffs\"][:, idx]\n",
    "    \n",
    "    az.plot_posterior(force_trace,\n",
    "                      kind='hist', point_estimate='mean', round_to=3,\n",
    "                      ref_val=0, credible_interval=.95, rope=(-.1, .1),\n",
    "                      edgecolor='white', ax=ax);\n",
    "    \n",
    "    plt.setp(ax, title=name)\n",
    "    return ax"
   ]
  },
  {
   "cell_type": "code",
   "execution_count": null,
   "metadata": {},
   "outputs": [],
   "source": [
    "fig, axes = plt.subplots(2, 3, figsize=(24, 12), dpi=150, sharey=True)\n",
    "for i, ax in enumerate(axes.flatten()):\n",
    "    ft = force_types[i]\n",
    "    plot_coeff_posterior(trace, ft, ax)"
   ]
  },
  {
   "cell_type": "code",
   "execution_count": null,
   "metadata": {
    "scrolled": true
   },
   "outputs": [],
   "source": [
    "# battles_df.loc[battles_df.lhs_leaders.str.contains(\"Napoleon\")]"
   ]
  },
  {
   "cell_type": "code",
   "execution_count": null,
   "metadata": {},
   "outputs": [],
   "source": [
    "# leaders_df.loc[leaders_df.index.str.contains('George')]"
   ]
  },
  {
   "cell_type": "code",
   "execution_count": null,
   "metadata": {},
   "outputs": [],
   "source": []
  }
 ],
 "metadata": {
  "kernelspec": {
   "display_name": "research",
   "language": "python",
   "name": "research"
  },
  "language_info": {
   "codemirror_mode": {
    "name": "ipython",
    "version": 3
   },
   "file_extension": ".py",
   "mimetype": "text/x-python",
   "name": "python",
   "nbconvert_exporter": "python",
   "pygments_lexer": "ipython3",
   "version": "3.7.7"
  }
 },
 "nbformat": 4,
 "nbformat_minor": 4
}
